{
  "nbformat": 4,
  "nbformat_minor": 0,
  "metadata": {
    "colab": {
      "provenance": [],
      "history_visible": true,
      "gpuType": "T4",
      "mount_file_id": "1TXmIsIZCa8v1xSEIRmhg1WSFusPcLlmC",
      "authorship_tag": "ABX9TyO875jwgT/z7MxxQJShnqdm",
      "include_colab_link": true
    },
    "kernelspec": {
      "name": "python3",
      "display_name": "Python 3"
    },
    "language_info": {
      "name": "python"
    },
    "accelerator": "GPU"
  },
  "cells": [
    {
      "cell_type": "markdown",
      "metadata": {
        "id": "view-in-github",
        "colab_type": "text"
      },
      "source": [
        "<a href=\"https://colab.research.google.com/github/shimano-yuho/Gmonte/blob/main/DL_learning.ipynb\" target=\"_parent\"><img src=\"https://colab.research.google.com/assets/colab-badge.svg\" alt=\"Open In Colab\"/></a>"
      ]
    },
    {
      "cell_type": "code",
      "source": [
        "print(\"hello\")"
      ],
      "metadata": {
        "colab": {
          "base_uri": "https://localhost:8080/"
        },
        "id": "69Vzt05CtQMu",
        "outputId": "4a53bc31-c8e4-4691-8fcf-771dc69cd5ab"
      },
      "execution_count": null,
      "outputs": [
        {
          "output_type": "stream",
          "name": "stdout",
          "text": [
            "hello\n"
          ]
        }
      ]
    },
    {
      "cell_type": "markdown",
      "source": [],
      "metadata": {
        "id": "lEuVBFzhGwIZ"
      }
    },
    {
      "cell_type": "markdown",
      "source": [
        "Deep learning from 人工知能技術の教科書"
      ],
      "metadata": {
        "id": "IwbXiSC3FqcD"
      }
    },
    {
      "cell_type": "code",
      "source": [],
      "metadata": {
        "id": "kCjpF-hfFyxq"
      },
      "execution_count": null,
      "outputs": []
    }
  ]
}